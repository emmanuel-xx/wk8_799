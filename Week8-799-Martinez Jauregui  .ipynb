{
 "cells": [
  {
   "cell_type": "markdown",
   "id": "5f74e59b",
   "metadata": {},
   "source": [
    "# Week 8 - K-Nearest Neighbors "
   ]
  },
  {
   "cell_type": "markdown",
   "id": "7756f4f4",
   "metadata": {},
   "source": [
    "This notebook focuses on concepts such as K-Nearest Neighbors."
   ]
  },
  {
   "cell_type": "markdown",
   "id": "52e59408-7518-4dc5-a45c-d66dbca26485",
   "metadata": {},
   "source": [
    "In this notebook, I will dive into using K-Nearest Neighbors (KNN) regression to predict hospital length of stay. I will test out different numbers of neighbors (k) and distance metrics to see what gives us the best results. The main goals is to tune the model for accuracy and see how well it can predict on new, unseen data using metrics like RMSE and R²."
   ]
  },
  {
   "cell_type": "code",
   "execution_count": 1,
   "id": "f4ee6e8b",
   "metadata": {},
   "outputs": [],
   "source": [
    "import pandas as pd\n",
    "import numpy as np\n",
    "import matplotlib.pyplot as plt\n",
    "import seaborn as sns\n",
    "\n",
    "from sklearn.model_selection import train_test_split, cross_val_score\n",
    "from sklearn.linear_model import LinearRegression, Ridge, Lasso, ElasticNet\n",
    "from sklearn.metrics import mean_squared_error, r2_score\n",
    "from sklearn.preprocessing import StandardScaler\n",
    "from sklearn.pipeline import Pipeline\n",
    "from sklearn import svm\n",
    "from sklearn.metrics import accuracy_score\n",
    "from sklearn.metrics import confusion_matrix, classification_report\n",
    "from sklearn.preprocessing import LabelEncoder"
   ]
  },
  {
   "cell_type": "markdown",
   "id": "5fbc2237",
   "metadata": {},
   "source": [
    "Load the data."
   ]
  },
  {
   "cell_type": "code",
   "execution_count": 2,
   "id": "b8dc641f",
   "metadata": {},
   "outputs": [
    {
     "data": {
      "text/html": [
       "<div>\n",
       "<style scoped>\n",
       "    .dataframe tbody tr th:only-of-type {\n",
       "        vertical-align: middle;\n",
       "    }\n",
       "\n",
       "    .dataframe tbody tr th {\n",
       "        vertical-align: top;\n",
       "    }\n",
       "\n",
       "    .dataframe thead th {\n",
       "        text-align: right;\n",
       "    }\n",
       "</style>\n",
       "<table border=\"1\" class=\"dataframe\">\n",
       "  <thead>\n",
       "    <tr style=\"text-align: right;\">\n",
       "      <th></th>\n",
       "      <th>eid</th>\n",
       "      <th>vdate</th>\n",
       "      <th>rcount</th>\n",
       "      <th>gender</th>\n",
       "      <th>dialysisrenalendstage</th>\n",
       "      <th>asthma</th>\n",
       "      <th>irondef</th>\n",
       "      <th>pneum</th>\n",
       "      <th>substancedependence</th>\n",
       "      <th>psychologicaldisordermajor</th>\n",
       "      <th>...</th>\n",
       "      <th>glucose</th>\n",
       "      <th>bloodureanitro</th>\n",
       "      <th>creatinine</th>\n",
       "      <th>bmi</th>\n",
       "      <th>pulse</th>\n",
       "      <th>respiration</th>\n",
       "      <th>secondarydiagnosisnonicd9</th>\n",
       "      <th>discharged</th>\n",
       "      <th>facid</th>\n",
       "      <th>lengthofstay</th>\n",
       "    </tr>\n",
       "  </thead>\n",
       "  <tbody>\n",
       "    <tr>\n",
       "      <th>0</th>\n",
       "      <td>1</td>\n",
       "      <td>8/29/2012</td>\n",
       "      <td>0</td>\n",
       "      <td>F</td>\n",
       "      <td>0</td>\n",
       "      <td>0</td>\n",
       "      <td>0</td>\n",
       "      <td>0</td>\n",
       "      <td>0</td>\n",
       "      <td>0</td>\n",
       "      <td>...</td>\n",
       "      <td>192.476918</td>\n",
       "      <td>12.0</td>\n",
       "      <td>1.390722</td>\n",
       "      <td>30.432418</td>\n",
       "      <td>96</td>\n",
       "      <td>6.5</td>\n",
       "      <td>4</td>\n",
       "      <td>9/1/2012</td>\n",
       "      <td>B</td>\n",
       "      <td>3</td>\n",
       "    </tr>\n",
       "    <tr>\n",
       "      <th>1</th>\n",
       "      <td>2</td>\n",
       "      <td>5/26/2012</td>\n",
       "      <td>5+</td>\n",
       "      <td>F</td>\n",
       "      <td>0</td>\n",
       "      <td>0</td>\n",
       "      <td>0</td>\n",
       "      <td>0</td>\n",
       "      <td>0</td>\n",
       "      <td>0</td>\n",
       "      <td>...</td>\n",
       "      <td>94.078507</td>\n",
       "      <td>8.0</td>\n",
       "      <td>0.943164</td>\n",
       "      <td>28.460516</td>\n",
       "      <td>61</td>\n",
       "      <td>6.5</td>\n",
       "      <td>1</td>\n",
       "      <td>6/2/2012</td>\n",
       "      <td>A</td>\n",
       "      <td>7</td>\n",
       "    </tr>\n",
       "    <tr>\n",
       "      <th>2</th>\n",
       "      <td>3</td>\n",
       "      <td>9/22/2012</td>\n",
       "      <td>1</td>\n",
       "      <td>F</td>\n",
       "      <td>0</td>\n",
       "      <td>0</td>\n",
       "      <td>0</td>\n",
       "      <td>0</td>\n",
       "      <td>0</td>\n",
       "      <td>0</td>\n",
       "      <td>...</td>\n",
       "      <td>130.530524</td>\n",
       "      <td>12.0</td>\n",
       "      <td>1.065750</td>\n",
       "      <td>28.843812</td>\n",
       "      <td>64</td>\n",
       "      <td>6.5</td>\n",
       "      <td>2</td>\n",
       "      <td>9/25/2012</td>\n",
       "      <td>B</td>\n",
       "      <td>3</td>\n",
       "    </tr>\n",
       "    <tr>\n",
       "      <th>3</th>\n",
       "      <td>4</td>\n",
       "      <td>8/9/2012</td>\n",
       "      <td>0</td>\n",
       "      <td>F</td>\n",
       "      <td>0</td>\n",
       "      <td>0</td>\n",
       "      <td>0</td>\n",
       "      <td>0</td>\n",
       "      <td>0</td>\n",
       "      <td>0</td>\n",
       "      <td>...</td>\n",
       "      <td>163.377028</td>\n",
       "      <td>12.0</td>\n",
       "      <td>0.906862</td>\n",
       "      <td>27.959007</td>\n",
       "      <td>76</td>\n",
       "      <td>6.5</td>\n",
       "      <td>1</td>\n",
       "      <td>8/10/2012</td>\n",
       "      <td>A</td>\n",
       "      <td>1</td>\n",
       "    </tr>\n",
       "    <tr>\n",
       "      <th>4</th>\n",
       "      <td>5</td>\n",
       "      <td>12/20/2012</td>\n",
       "      <td>0</td>\n",
       "      <td>F</td>\n",
       "      <td>0</td>\n",
       "      <td>0</td>\n",
       "      <td>0</td>\n",
       "      <td>1</td>\n",
       "      <td>0</td>\n",
       "      <td>1</td>\n",
       "      <td>...</td>\n",
       "      <td>94.886654</td>\n",
       "      <td>11.5</td>\n",
       "      <td>1.242854</td>\n",
       "      <td>30.258927</td>\n",
       "      <td>67</td>\n",
       "      <td>5.6</td>\n",
       "      <td>2</td>\n",
       "      <td>12/24/2012</td>\n",
       "      <td>E</td>\n",
       "      <td>4</td>\n",
       "    </tr>\n",
       "  </tbody>\n",
       "</table>\n",
       "<p>5 rows × 28 columns</p>\n",
       "</div>"
      ],
      "text/plain": [
       "   eid       vdate rcount gender  dialysisrenalendstage  asthma  irondef  \\\n",
       "0    1   8/29/2012      0      F                      0       0        0   \n",
       "1    2   5/26/2012     5+      F                      0       0        0   \n",
       "2    3   9/22/2012      1      F                      0       0        0   \n",
       "3    4    8/9/2012      0      F                      0       0        0   \n",
       "4    5  12/20/2012      0      F                      0       0        0   \n",
       "\n",
       "   pneum  substancedependence  psychologicaldisordermajor  ...     glucose  \\\n",
       "0      0                    0                           0  ...  192.476918   \n",
       "1      0                    0                           0  ...   94.078507   \n",
       "2      0                    0                           0  ...  130.530524   \n",
       "3      0                    0                           0  ...  163.377028   \n",
       "4      1                    0                           1  ...   94.886654   \n",
       "\n",
       "   bloodureanitro  creatinine        bmi  pulse  respiration  \\\n",
       "0            12.0    1.390722  30.432418     96          6.5   \n",
       "1             8.0    0.943164  28.460516     61          6.5   \n",
       "2            12.0    1.065750  28.843812     64          6.5   \n",
       "3            12.0    0.906862  27.959007     76          6.5   \n",
       "4            11.5    1.242854  30.258927     67          5.6   \n",
       "\n",
       "   secondarydiagnosisnonicd9  discharged  facid  lengthofstay  \n",
       "0                          4    9/1/2012      B             3  \n",
       "1                          1    6/2/2012      A             7  \n",
       "2                          2   9/25/2012      B             3  \n",
       "3                          1   8/10/2012      A             1  \n",
       "4                          2  12/24/2012      E             4  \n",
       "\n",
       "[5 rows x 28 columns]"
      ]
     },
     "execution_count": 2,
     "metadata": {},
     "output_type": "execute_result"
    }
   ],
   "source": [
    "df = pd.read_csv('LengthOfStay.csv')\n",
    "df.head()"
   ]
  },
  {
   "cell_type": "markdown",
   "id": "71652510",
   "metadata": {},
   "source": [
    "Replace '5+' with '5' and make sure all the values on the column are integers."
   ]
  },
  {
   "cell_type": "code",
   "execution_count": 3,
   "id": "15b3f0c4",
   "metadata": {},
   "outputs": [],
   "source": [
    "df['rcount'] = df['rcount'].replace('5+', 5)\n",
    "df['rcount'] = df['rcount'].astype(int)"
   ]
  },
  {
   "cell_type": "markdown",
   "id": "5cd2924d",
   "metadata": {},
   "source": [
    "Drop unnecessary columns and encode categorical colummns."
   ]
  },
  {
   "cell_type": "code",
   "execution_count": 4,
   "id": "6cdd1f5d",
   "metadata": {},
   "outputs": [],
   "source": [
    "df_clean = df.drop(columns=['eid', 'vdate', 'discharged'])\n",
    "\n",
    "df_encoded = pd.get_dummies(df_clean, columns=['gender', 'facid'], drop_first=True)\n",
    "\n",
    "X = df_encoded.drop(columns=['lengthofstay'])\n",
    "y = df_encoded['lengthofstay']"
   ]
  },
  {
   "cell_type": "markdown",
   "id": "3ae9f8e6",
   "metadata": {},
   "source": [
    "Scale and split the data."
   ]
  },
  {
   "cell_type": "code",
   "execution_count": 5,
   "id": "09645859",
   "metadata": {},
   "outputs": [],
   "source": [
    "scaler = StandardScaler()\n",
    "X_scaled = scaler.fit_transform(X)"
   ]
  },
  {
   "cell_type": "code",
   "execution_count": 6,
   "id": "ff5effd0",
   "metadata": {},
   "outputs": [],
   "source": [
    "X_train, X_test, y_train, y_test = train_test_split(X_scaled, y, test_size=0.2, random_state=42)"
   ]
  },
  {
   "cell_type": "markdown",
   "id": "e6792e37",
   "metadata": {},
   "source": [
    "Build the KNN model with a k value of 5."
   ]
  },
  {
   "cell_type": "code",
   "execution_count": 7,
   "id": "f5cfb536",
   "metadata": {},
   "outputs": [
    {
     "name": "stdout",
     "output_type": "stream",
     "text": [
      "RMSE: 1.14\n",
      "R²: 0.77\n"
     ]
    }
   ],
   "source": [
    "from sklearn.neighbors import KNeighborsRegressor\n",
    "\n",
    "knn = KNeighborsRegressor(n_neighbors=5)\n",
    "knn.fit(X_train, y_train)\n",
    "\n",
    "y_pred = knn.predict(X_test)\n",
    "\n",
    "rmse = np.sqrt(mean_squared_error(y_test, y_pred))\n",
    "r2 = r2_score(y_test, y_pred)\n",
    "\n",
    "print(f\"RMSE: {rmse:.2f}\")\n",
    "print(f\"R²: {r2:.2f}\")"
   ]
  },
  {
   "cell_type": "markdown",
   "id": "eecdb90e",
   "metadata": {},
   "source": [
    "The model's predictions are about 1.14 days off and it explains 77% of the variance in LOS. It is a quite strong baseline."
   ]
  },
  {
   "cell_type": "markdown",
   "id": "a6fcfa5d",
   "metadata": {},
   "source": [
    "Now I will iterate the model using a range of k values from 1 to 31 and plot it the results with the rmse outcomes."
   ]
  },
  {
   "cell_type": "code",
   "execution_count": 8,
   "id": "9f9b95d9",
   "metadata": {},
   "outputs": [
    {
     "data": {
      "image/png": "[encoded data removed]",
      "text/plain": [
       "<Figure size 800x400 with 1 Axes>"
      ]
     },
     "metadata": {},
     "output_type": "display_data"
    }
   ],
   "source": [
    "k_values = range(1, 31)\n",
    "rmse_scores = []\n",
    "\n",
    "for k in k_values:\n",
    "    knn = KNeighborsRegressor(n_neighbors=k, p=2)\n",
    "    knn.fit(X_train, y_train)\n",
    "    y_pred = knn.predict(X_test)\n",
    "    rmse = np.sqrt(mean_squared_error(y_test, y_pred))\n",
    "    rmse_scores.append(rmse)\n",
    "\n",
    "plt.figure(figsize=(8, 4))\n",
    "plt.plot(k_values, rmse_scores, marker='o')\n",
    "plt.xlabel('Number of Neighbors k')\n",
    "plt.ylabel('RMSE')\n",
    "plt.title('KNN Regression: RMSE vs k')\n",
    "plt.grid(True)\n",
    "plt.show()"
   ]
  },
  {
   "cell_type": "markdown",
   "id": "66504b3e",
   "metadata": {},
   "source": [
    "The grpah indicates that the sweet spot of k value is between 6 and 8."
   ]
  },
  {
   "cell_type": "code",
   "execution_count": 9,
   "id": "ff968edb",
   "metadata": {},
   "outputs": [],
   "source": [
    "from sklearn.model_selection import GridSearchCV"
   ]
  },
  {
   "cell_type": "markdown",
   "id": "3bea492c",
   "metadata": {},
   "source": [
    "Now I will use GridSearch to find the best parameters for this model, including the number of neighbors, weight of the neighbors and how the distance is measured (Euclidean or Manhattan)"
   ]
  },
  {
   "cell_type": "code",
   "execution_count": 10,
   "id": "f93cbabc",
   "metadata": {},
   "outputs": [
    {
     "name": "stdout",
     "output_type": "stream",
     "text": [
      "Best parameters: {'n_neighbors': 8, 'p': 1, 'weights': 'distance'}\n",
      "Best RMSE: 1.11\n",
      "Best R²: 0.78\n"
     ]
    }
   ],
   "source": [
    "param_grid = {\n",
    "    'n_neighbors': range(1, 21),\n",
    "    'weights': ['uniform', 'distance'],\n",
    "    'p': [1, 2]\n",
    "}\n",
    "\n",
    "knn = KNeighborsRegressor()\n",
    "grid = GridSearchCV(knn, param_grid, cv=5, scoring='neg_mean_squared_error')\n",
    "grid.fit(X_train, y_train)\n",
    "\n",
    "print(\"Best parameters:\", grid.best_params_)\n",
    "\n",
    "best_knn = grid.best_estimator_\n",
    "y_pred_best = best_knn.predict(X_test)\n",
    "\n",
    "rmse_best = np.sqrt(mean_squared_error(y_test, y_pred_best))\n",
    "r2_best = r2_score(y_test, y_pred_best)\n",
    "\n",
    "print(f\"Best RMSE: {rmse_best:.2f}\")\n",
    "print(f\"Best R²: {r2_best:.2f}\")"
   ]
  },
  {
   "cell_type": "markdown",
   "id": "df5f076f",
   "metadata": {},
   "source": [
    "The best combination is 8 neighbors, Manhattan distance, and distance weighting, reducing RMSE to 1.11 and improving R² to 0.78. Overall, this shows that tuning KNN hyperparameters can noticeably boost prediction accuracy."
   ]
  }
 ],
 "metadata": {
  "kernelspec": {
   "display_name": "Python 3 (ipykernel)",
   "language": "python",
   "name": "python3"
  },
  "language_info": {
   "codemirror_mode": {
    "name": "ipython",
    "version": 3
   },
   "file_extension": ".py",
   "mimetype": "text/x-python",
   "name": "python",
   "nbconvert_exporter": "python",
   "pygments_lexer": "ipython3",
   "version": "3.13.2"
  }
 },
 "nbformat": 4,
 "nbformat_minor": 5
}
